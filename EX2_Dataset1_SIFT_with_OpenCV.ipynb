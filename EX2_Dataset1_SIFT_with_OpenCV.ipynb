{
 "cells": [
  {
   "cell_type": "markdown",
   "metadata": {
    "colab_type": "text",
    "id": "view-in-github"
   },
   "source": [
    "<a href=\"https://colab.research.google.com/github/DayrisRM/VisionArtificial-M0T/blob/master/SIFT_with_OpenCV.ipynb\" target=\"_parent\"><img src=\"https://colab.research.google.com/assets/colab-badge.svg\" alt=\"Open In Colab\"/></a>"
   ]
  },
  {
   "cell_type": "code",
   "execution_count": 46,
   "metadata": {
    "id": "LZ66ULakwRwt"
   },
   "outputs": [],
   "source": [
    "import numpy as np\n",
    "import cv2"
   ]
  },
  {
   "cell_type": "code",
   "execution_count": 47,
   "metadata": {
    "colab": {
     "base_uri": "https://localhost:8080/",
     "height": 200
    },
    "id": "piOcPrGe2DQe",
    "outputId": "880f5d6c-97d8-4aad-cada-03ced6533f4b"
   },
   "outputs": [],
   "source": [
    "# Create detector to compute SIFT\n",
    "detector = cv2.xfeatures2d.SIFT_create()"
   ]
  },
  {
   "cell_type": "code",
   "execution_count": 111,
   "metadata": {
    "id": "49tPiZ38zStk"
   },
   "outputs": [],
   "source": [
    "# Read image and convert to grayscale\n",
    "imageNameModelo = 'Ex2-Dataset1\\\\Modelo.png'\n",
    "imaModelo=cv2.imread(imageNameModelo)"
   ]
  },
  {
   "cell_type": "code",
   "execution_count": 112,
   "metadata": {},
   "outputs": [
    {
     "name": "stdout",
     "output_type": "stream",
     "text": [
      "Extracting Keypoints\n"
     ]
    }
   ],
   "source": [
    "# Detect keypoints with SIFT and sort them according to their response\n",
    "import time\n",
    "print ('Extracting Keypoints')\n",
    "init=time.time()\n",
    "kpts=detector.detect(imaModelo)"
   ]
  },
  {
   "cell_type": "code",
   "execution_count": 113,
   "metadata": {},
   "outputs": [
    {
     "name": "stdout",
     "output_type": "stream",
     "text": [
      "Extracted 482 keypoints.\n",
      "Done in 0.9707131385803223 secs.\n",
      "\n"
     ]
    }
   ],
   "source": [
    "end=time.time()\n",
    "print ('Extracted '+str(len(kpts))+' keypoints.')\n",
    "print ('Done in '+str(end-init)+' secs.')\n",
    "print ('')"
   ]
  },
  {
   "cell_type": "code",
   "execution_count": 91,
   "metadata": {},
   "outputs": [
    {
     "name": "stdout",
     "output_type": "stream",
     "text": [
      "Computing SIFT descriptors\n",
      "Done in 0.05499696731567383 secs.\n",
      "des: [[  0.   0.   0. ...   0.   4.   6.]\n",
      " [  0.   0.   2. ...   0.   0.   3.]\n",
      " [ 21.  29.  14. ...   0.   0.   0.]\n",
      " ...\n",
      " [  1.   2.   3. ...   0.  46.  36.]\n",
      " [  0.  52. 114. ...   0.   0.   6.]\n",
      " [  5.  34.   3. ...   0.   1.   7.]]\n"
     ]
    }
   ],
   "source": [
    "# Compute SIFT descriptor for all keypoints\n",
    "print ('Computing SIFT descriptors')\n",
    "init=time.time()\n",
    "kpts,des=detector.compute(imaModelo,kpts)\n",
    "end=time.time()\n",
    "print ('Done in '+str(end-init)+' secs.')\n",
    "print('des: ' + str(des))"
   ]
  },
  {
   "cell_type": "code",
   "execution_count": 92,
   "metadata": {},
   "outputs": [],
   "source": [
    "img=cv2.drawKeypoints(imaModelo,kpts,imaModelo,flags=cv2.DRAW_MATCHES_FLAGS_DRAW_RICH_KEYPOINTS)\n",
    "cv2.imwrite('Ex2-Dataset1\\\\sift_t7_keypoints.png',imaModelo)\n",
    "cv2.imshow('image',imaModelo)"
   ]
  },
  {
   "cell_type": "code",
   "execution_count": null,
   "metadata": {},
   "outputs": [],
   "source": []
  }
 ],
 "metadata": {
  "colab": {
   "authorship_tag": "ABX9TyPsOfA5IC3dtsYrxtfRNr9a",
   "include_colab_link": true,
   "name": "SIFT with OpenCV.ipynb",
   "provenance": []
  },
  "kernelspec": {
   "display_name": "Python 3",
   "language": "python",
   "name": "python3"
  },
  "language_info": {
   "codemirror_mode": {
    "name": "ipython",
    "version": 3
   },
   "file_extension": ".py",
   "mimetype": "text/x-python",
   "name": "python",
   "nbconvert_exporter": "python",
   "pygments_lexer": "ipython3",
   "version": "3.6.13"
  }
 },
 "nbformat": 4,
 "nbformat_minor": 1
}
