{
 "cells": [
  {
   "cell_type": "markdown",
   "metadata": {
    "colab_type": "text",
    "id": "view-in-github"
   },
   "source": [
    "<a href=\"https://colab.research.google.com/github/DayrisRM/VisionArtificial-M0T/blob/master/SIFT_with_OpenCV.ipynb\" target=\"_parent\"><img src=\"https://colab.research.google.com/assets/colab-badge.svg\" alt=\"Open In Colab\"/></a>"
   ]
  },
  {
   "cell_type": "code",
   "execution_count": 1,
   "metadata": {
    "id": "LZ66ULakwRwt"
   },
   "outputs": [],
   "source": [
    "import numpy as np\n",
    "import cv2"
   ]
  },
  {
   "cell_type": "code",
   "execution_count": 2,
   "metadata": {
    "id": "49tPiZ38zStk"
   },
   "outputs": [],
   "source": [
    "# Read image and convert to grayscale\n",
    "imageName = 'bcn-001.jpg'\n",
    "ima=cv2.imread(imageName)\n",
    "gray=cv2.cvtColor(ima,cv2.COLOR_BGR2GRAY)"
   ]
  },
  {
   "cell_type": "code",
   "execution_count": 3,
   "metadata": {
    "colab": {
     "base_uri": "https://localhost:8080/"
    },
    "id": "ir58x-LR5b9T",
    "outputId": "2f658769-3177-4a1f-cbb7-be31f5a34e25"
   },
   "outputs": [
    {
     "name": "stdout",
     "output_type": "stream",
     "text": [
      "3.4.2\n"
     ]
    }
   ],
   "source": [
    "print(cv2.__version__)"
   ]
  },
  {
   "cell_type": "code",
   "execution_count": 4,
   "metadata": {
    "colab": {
     "base_uri": "https://localhost:8080/",
     "height": 200
    },
    "id": "piOcPrGe2DQe",
    "outputId": "880f5d6c-97d8-4aad-cada-03ced6533f4b"
   },
   "outputs": [],
   "source": [
    "# Create detector to compute SIFT\n",
    "detector = cv2.xfeatures2d.SIFT_create()"
   ]
  },
  {
   "cell_type": "code",
   "execution_count": 5,
   "metadata": {},
   "outputs": [
    {
     "name": "stdout",
     "output_type": "stream",
     "text": [
      "Extracting Keypoints\n"
     ]
    }
   ],
   "source": [
    "# Detect keypoints with SIFT and sort them according to their response\n",
    "import time\n",
    "print ('Extracting Keypoints')\n",
    "init=time.time()\n",
    "kpts=detector.detect(gray)"
   ]
  },
  {
   "cell_type": "code",
   "execution_count": 6,
   "metadata": {},
   "outputs": [
    {
     "name": "stdout",
     "output_type": "stream",
     "text": [
      "Extracted 3585 keypoints.\n",
      "Done in 1.4166135787963867 secs.\n",
      "\n"
     ]
    }
   ],
   "source": [
    "end=time.time()\n",
    "print ('Extracted '+str(len(kpts))+' keypoints.')\n",
    "print ('Done in '+str(end-init)+' secs.')\n",
    "print ('')"
   ]
  },
  {
   "cell_type": "code",
   "execution_count": 15,
   "metadata": {},
   "outputs": [
    {
     "name": "stdout",
     "output_type": "stream",
     "text": [
      "Computing SIFT descriptors\n",
      "Done in 0.15816807746887207 secs.\n",
      "des: [[ 0.  0.  3. ...  5. 33. 20.]\n",
      " [ 1.  0.  2. ...  8.  3.  7.]\n",
      " [94.  7.  7. ... 84. 27.  8.]\n",
      " ...\n",
      " [ 6. 27. 83. ...  0.  0.  0.]\n",
      " [ 0.  0.  0. ... 11.  0.  0.]\n",
      " [ 0.  0.  0. ...  0.  1.  1.]]\n"
     ]
    }
   ],
   "source": [
    "# Compute SIFT descriptor for all keypoints\n",
    "print ('Computing SIFT descriptors')\n",
    "init=time.time()\n",
    "kpts,des=detector.compute(gray,kpts)\n",
    "end=time.time()\n",
    "print ('Done in '+str(end-init)+' secs.')\n",
    "print('des: ' + str(des))"
   ]
  },
  {
   "cell_type": "code",
   "execution_count": 16,
   "metadata": {},
   "outputs": [],
   "source": [
    "img=cv2.drawKeypoints(gray,kpts,ima,flags=cv2.DRAW_MATCHES_FLAGS_DRAW_RICH_KEYPOINTS)\n",
    "cv2.imwrite('sift_keypoints.jpg',img)\n",
    "cv2.imshow('image',img)"
   ]
  },
  {
   "cell_type": "code",
   "execution_count": null,
   "metadata": {},
   "outputs": [],
   "source": []
  }
 ],
 "metadata": {
  "colab": {
   "authorship_tag": "ABX9TyPsOfA5IC3dtsYrxtfRNr9a",
   "include_colab_link": true,
   "name": "SIFT with OpenCV.ipynb",
   "provenance": []
  },
  "kernelspec": {
   "display_name": "Python 3",
   "language": "python",
   "name": "python3"
  },
  "language_info": {
   "codemirror_mode": {
    "name": "ipython",
    "version": 3
   },
   "file_extension": ".py",
   "mimetype": "text/x-python",
   "name": "python",
   "nbconvert_exporter": "python",
   "pygments_lexer": "ipython3",
   "version": "3.6.13"
  }
 },
 "nbformat": 4,
 "nbformat_minor": 1
}
